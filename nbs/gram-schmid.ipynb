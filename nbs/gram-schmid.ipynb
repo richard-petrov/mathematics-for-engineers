{
 "cells": [
  {
   "cell_type": "markdown",
   "id": "085ee9e4",
   "metadata": {},
   "source": [
    "## Gram-Schmid process"
   ]
  },
  {
   "cell_type": "code",
   "execution_count": 77,
   "id": "29a6050e",
   "metadata": {},
   "outputs": [],
   "source": [
    "# matrix"
   ]
  },
  {
   "cell_type": "code",
   "execution_count": 78,
   "id": "253d74b7",
   "metadata": {},
   "outputs": [],
   "source": [
    "w = [[1, 1], [1, 0]]"
   ]
  },
  {
   "cell_type": "code",
   "execution_count": 79,
   "id": "60d2fd28",
   "metadata": {},
   "outputs": [],
   "source": [
    "def multiply_vectors(v1, v2):\n",
    "    if len(v1) != len(v2):\n",
    "        raise ValueError(\"Vectors must be of the same length\")\n",
    "    return sum(x * y for x, y in zip(v1, v2))"
   ]
  },
  {
   "cell_type": "code",
   "execution_count": 80,
   "id": "350347cf",
   "metadata": {},
   "outputs": [],
   "source": [
    "def deduct_vectors(v1, v2):\n",
    "    if len(v1) != len(v2):\n",
    "        raise ValueError(\"Vectors must be of the same length\")\n",
    "    return [x - y for x, y in zip(v1, v2)]"
   ]
  },
  {
   "cell_type": "code",
   "execution_count": 168,
   "id": "42ce6da5",
   "metadata": {},
   "outputs": [],
   "source": [
    "def solve_gsp(w):\n",
    "    n = len(w)\n",
    "    if n == 0:\n",
    "        return ValueError(\"Matrix is empty\")\n",
    "    dynamic_var = []\n",
    "    dynamic_var.append(w[0])\n",
    "    for i in range(1, n):\n",
    "        j = 0\n",
    "        u = w[i]\n",
    "        print(f\"i={i}\")\n",
    "        while j <= (i - 1):\n",
    "            print(f\"  j={j}\")\n",
    "            u_tr_v = multiply_vectors(dynamic_var[j], w[i])\n",
    "            u_tr_u = multiply_vectors(dynamic_var[j], dynamic_var[j])\n",
    "            deductible = ([(x * u_tr_v) / u_tr_u for x in dynamic_var[j]])\n",
    "            print(f\"    u_tr_v={u_tr_v}, u_tr_u={u_tr_u}, deductible={deductible}\")\n",
    "            u = deduct_vectors(u, deductible)\n",
    "            j += 1\n",
    "        dynamic_var.append(u)\n",
    "    return dynamic_var"
   ]
  },
  {
   "cell_type": "code",
   "execution_count": 176,
   "id": "c06234e6",
   "metadata": {},
   "outputs": [],
   "source": [
    "def normalize_vector(v):\n",
    "    norm = multiply_vectors(v, v) ** 0.5\n",
    "    return [x / norm for x in v]"
   ]
  },
  {
   "cell_type": "code",
   "execution_count": 178,
   "id": "809429d3",
   "metadata": {},
   "outputs": [
    {
     "data": {
      "text/plain": [
       "[0.7071067811865475, 0.7071067811865475]"
      ]
     },
     "execution_count": 178,
     "metadata": {},
     "output_type": "execute_result"
    }
   ],
   "source": [
    "normalize_vector([1, 1])"
   ]
  },
  {
   "cell_type": "code",
   "execution_count": 163,
   "id": "ac14a128",
   "metadata": {},
   "outputs": [],
   "source": [
    "w_1 = [[1.0, 1.0, 1.0, 1.0], \n",
    "       [0.0, 1.0, 1.0, 1.0],\n",
    "       [0.0, 0.0, 1.0, 1.0],\n",
    "       [1.0, 0.0, 1.0, 0.0]]"
   ]
  },
  {
   "cell_type": "code",
   "execution_count": 160,
   "id": "d6e9a36d",
   "metadata": {},
   "outputs": [],
   "source": [
    "def vector_ortogonality(v1, v2):\n",
    "    return multiply_vectors(v1, v2) == 0"
   ]
  },
  {
   "cell_type": "code",
   "execution_count": 180,
   "id": "600f62e7",
   "metadata": {},
   "outputs": [],
   "source": [
    "v2 = [[1, 1, -1], [0, 1, -1]]"
   ]
  },
  {
   "cell_type": "code",
   "execution_count": 182,
   "id": "5c8209ea",
   "metadata": {},
   "outputs": [
    {
     "name": "stdout",
     "output_type": "stream",
     "text": [
      "i=1\n",
      "  j=0\n",
      "    u_tr_v=2, u_tr_u=3, deductible=[0.6666666666666666, 0.6666666666666666, -0.6666666666666666]\n",
      "u2 before normalization: [[1, 1, -1], [-0.6666666666666666, 0.33333333333333337, -0.33333333333333337]]\n",
      "u2_norm: [[0.5773502691896258, 0.5773502691896258, -0.5773502691896258], [-0.816496580927726, 0.4082482904638631, -0.4082482904638631]]\n"
     ]
    }
   ],
   "source": [
    "u2 = solve_gsp(v2)\n",
    "print(\"u2 before normalization:\", u2)\n",
    "u2_norm = [normalize_vector(u2[0]), normalize_vector(u2[1])]\n",
    "print(\"u2_norm:\", u2_norm)"
   ]
  }
 ],
 "metadata": {
  "kernelspec": {
   "display_name": ".venv (3.11.0)",
   "language": "python",
   "name": "python3"
  },
  "language_info": {
   "codemirror_mode": {
    "name": "ipython",
    "version": 3
   },
   "file_extension": ".py",
   "mimetype": "text/x-python",
   "name": "python",
   "nbconvert_exporter": "python",
   "pygments_lexer": "ipython3",
   "version": "3.11.0"
  }
 },
 "nbformat": 4,
 "nbformat_minor": 5
}
